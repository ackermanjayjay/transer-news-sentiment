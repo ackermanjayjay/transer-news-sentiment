{
 "cells": [
  {
   "cell_type": "code",
   "execution_count": 116,
   "metadata": {},
   "outputs": [],
   "source": [
    "from vaderSentiment.vaderSentiment import SentimentIntensityAnalyzer\n",
    "import pandas as pd\n",
    "from textblob import TextBlob\n",
    "import matplotlib.pyplot as plt\n",
    "import seaborn as sns"
   ]
  },
  {
   "cell_type": "code",
   "execution_count": 102,
   "metadata": {},
   "outputs": [],
   "source": [
    "df_transfer_news=pd.read_csv(\"90minFootballTransferNewsNLP.csv\")"
   ]
  },
  {
   "cell_type": "code",
   "execution_count": 103,
   "metadata": {},
   "outputs": [
    {
     "data": {
      "text/html": [
       "<div>\n",
       "<style scoped>\n",
       "    .dataframe tbody tr th:only-of-type {\n",
       "        vertical-align: middle;\n",
       "    }\n",
       "\n",
       "    .dataframe tbody tr th {\n",
       "        vertical-align: top;\n",
       "    }\n",
       "\n",
       "    .dataframe thead th {\n",
       "        text-align: right;\n",
       "    }\n",
       "</style>\n",
       "<table border=\"1\" class=\"dataframe\">\n",
       "  <thead>\n",
       "    <tr style=\"text-align: right;\">\n",
       "      <th></th>\n",
       "      <th>Title</th>\n",
       "      <th>Date</th>\n",
       "      <th>Link</th>\n",
       "      <th>Content</th>\n",
       "    </tr>\n",
       "  </thead>\n",
       "  <tbody>\n",
       "    <tr>\n",
       "      <th>0</th>\n",
       "      <td>Football transfer rumours: Why Maguire's Man U...</td>\n",
       "      <td>Aug 15, 2023</td>\n",
       "      <td>https://www.90min.com/posts/football-transfer-...</td>\n",
       "      <td>90minÂ rounds up the latestÂ transfer news, ru...</td>\n",
       "    </tr>\n",
       "    <tr>\n",
       "      <th>1</th>\n",
       "      <td>Chelsea agree Romeo Lavia fee with Southampton</td>\n",
       "      <td>Aug 15, 2023</td>\n",
       "      <td>https://www.90min.com/posts/chelsea-agree-rome...</td>\n",
       "      <td>Chelsea have finalised an agreement with South...</td>\n",
       "    </tr>\n",
       "    <tr>\n",
       "      <th>2</th>\n",
       "      <td>Harry Maguire's proposed West Ham transfer col...</td>\n",
       "      <td>Aug 15, 2023</td>\n",
       "      <td>https://www.90min.com/posts/harry-maguire-prop...</td>\n",
       "      <td>Harry Maguire's proposed transfer to West Ham ...</td>\n",
       "    </tr>\n",
       "    <tr>\n",
       "      <th>3</th>\n",
       "      <td>Southampton director breaks down Chelsea &amp; Liv...</td>\n",
       "      <td>Aug 15, 2023</td>\n",
       "      <td>https://www.90min.com/posts/southampton-direct...</td>\n",
       "      <td>Southampton director Jason Wilcox has revealed...</td>\n",
       "    </tr>\n",
       "    <tr>\n",
       "      <th>4</th>\n",
       "      <td>Neymar completes move from PSG to Al Hilal</td>\n",
       "      <td>Aug 15, 2023</td>\n",
       "      <td>https://www.90min.com/posts/neymar-completes-m...</td>\n",
       "      <td>Saudi Pro League side Al Hilal have confirmed ...</td>\n",
       "    </tr>\n",
       "  </tbody>\n",
       "</table>\n",
       "</div>"
      ],
      "text/plain": [
       "                                               Title          Date  \\\n",
       "0  Football transfer rumours: Why Maguire's Man U...  Aug 15, 2023   \n",
       "1     Chelsea agree Romeo Lavia fee with Southampton  Aug 15, 2023   \n",
       "2  Harry Maguire's proposed West Ham transfer col...  Aug 15, 2023   \n",
       "3  Southampton director breaks down Chelsea & Liv...  Aug 15, 2023   \n",
       "4         Neymar completes move from PSG to Al Hilal  Aug 15, 2023   \n",
       "\n",
       "                                                Link  \\\n",
       "0  https://www.90min.com/posts/football-transfer-...   \n",
       "1  https://www.90min.com/posts/chelsea-agree-rome...   \n",
       "2  https://www.90min.com/posts/harry-maguire-prop...   \n",
       "3  https://www.90min.com/posts/southampton-direct...   \n",
       "4  https://www.90min.com/posts/neymar-completes-m...   \n",
       "\n",
       "                                             Content  \n",
       "0  90minÂ rounds up the latestÂ transfer news, ru...  \n",
       "1  Chelsea have finalised an agreement with South...  \n",
       "2  Harry Maguire's proposed transfer to West Ham ...  \n",
       "3  Southampton director Jason Wilcox has revealed...  \n",
       "4  Saudi Pro League side Al Hilal have confirmed ...  "
      ]
     },
     "execution_count": 103,
     "metadata": {},
     "output_type": "execute_result"
    }
   ],
   "source": [
    "df_transfer_news.head()"
   ]
  },
  {
   "cell_type": "markdown",
   "metadata": {},
   "source": [
    "## Labelling"
   ]
  },
  {
   "cell_type": "markdown",
   "metadata": {},
   "source": [
    "### Text blob"
   ]
  },
  {
   "cell_type": "code",
   "execution_count": 104,
   "metadata": {},
   "outputs": [],
   "source": [
    "def polarity(text):\n",
    "    text=text.lower()\n",
    "    text=TextBlob(text)\n",
    "    text=text.sentiment.polarity\n",
    "    return text"
   ]
  },
  {
   "cell_type": "code",
   "execution_count": 105,
   "metadata": {},
   "outputs": [],
   "source": [
    "df_transfer_news[\"Polarity\"]=df_transfer_news[\"Title\"].apply(polarity)"
   ]
  },
  {
   "cell_type": "code",
   "execution_count": 108,
   "metadata": {},
   "outputs": [],
   "source": [
    "def labelling(polarity):\n",
    "    if polarity >=1:\n",
    "        return \"Positive\"\n",
    "    if polarity >=0:\n",
    "        return \"Neutral\"\n",
    "    if polarity <0:\n",
    "        return \"Negative\"\n"
   ]
  },
  {
   "cell_type": "code",
   "execution_count": 109,
   "metadata": {},
   "outputs": [],
   "source": [
    "df_transfer_news=df_transfer_news[[\"Title\",\"Polarity\"]]"
   ]
  },
  {
   "cell_type": "code",
   "execution_count": 110,
   "metadata": {},
   "outputs": [
    {
     "name": "stderr",
     "output_type": "stream",
     "text": [
      "C:\\Users\\Reza\\AppData\\Local\\Temp\\ipykernel_8404\\523992033.py:1: SettingWithCopyWarning: \n",
      "A value is trying to be set on a copy of a slice from a DataFrame.\n",
      "Try using .loc[row_indexer,col_indexer] = value instead\n",
      "\n",
      "See the caveats in the documentation: https://pandas.pydata.org/pandas-docs/stable/user_guide/indexing.html#returning-a-view-versus-a-copy\n",
      "  df_transfer_news[\"Sentiment\"]=df_transfer_news[\"Polarity\"].apply(labelling)\n"
     ]
    }
   ],
   "source": [
    "df_transfer_news[\"Sentiment\"]=df_transfer_news[\"Polarity\"].apply(labelling)"
   ]
  },
  {
   "cell_type": "code",
   "execution_count": 112,
   "metadata": {},
   "outputs": [
    {
     "data": {
      "text/plain": [
       "array(['Neutral', 'Negative', 'Positive'], dtype=object)"
      ]
     },
     "execution_count": 112,
     "metadata": {},
     "output_type": "execute_result"
    }
   ],
   "source": [
    "df_transfer_news.Sentiment.unique()"
   ]
  },
  {
   "cell_type": "code",
   "execution_count": 115,
   "metadata": {},
   "outputs": [
    {
     "data": {
      "image/png": "[encoded data removed]",
      "text/plain": [
       "<Figure size 640x480 with 1 Axes>"
      ]
     },
     "metadata": {},
     "output_type": "display_data"
    }
   ],
   "source": [
    "df_transfer_news.Sentiment.value_counts().plot.bar();"
   ]
  },
  {
   "cell_type": "markdown",
   "metadata": {},
   "source": [
    "Vader Sentiment (not use)"
   ]
  },
  {
   "cell_type": "code",
   "execution_count": null,
   "metadata": {},
   "outputs": [],
   "source": [
    "# analyzer = SentimentIntensityAnalyzer()\n",
    "# def labelling(text):\n",
    "#     text=text.lower()\n",
    "#     text=analyzer.polarity_scores(text)\n",
    "#     text.pop('compound')\n",
    "#     text=max(text,key=text.get)\n",
    "#     return text"
   ]
  }
 ],
 "metadata": {
  "kernelspec": {
   "display_name": "base",
   "language": "python",
   "name": "python3"
  },
  "language_info": {
   "codemirror_mode": {
    "name": "ipython",
    "version": 3
   },
   "file_extension": ".py",
   "mimetype": "text/x-python",
   "name": "python",
   "nbconvert_exporter": "python",
   "pygments_lexer": "ipython3",
   "version": "3.11.4"
  },
  "orig_nbformat": 4
 },
 "nbformat": 4,
 "nbformat_minor": 2
}
